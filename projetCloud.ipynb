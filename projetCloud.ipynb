{
  "nbformat": 4,
  "nbformat_minor": 0,
  "metadata": {
    "colab": {
      "provenance": [],
      "authorship_tag": "ABX9TyNMN4gw/7+fhFdrpGroHtra",
      "include_colab_link": true
    },
    "kernelspec": {
      "name": "python3",
      "display_name": "Python 3"
    },
    "language_info": {
      "name": "python"
    }
  },
  "cells": [
    {
      "cell_type": "markdown",
      "metadata": {
        "id": "view-in-github",
        "colab_type": "text"
      },
      "source": [
        "<a href=\"https://colab.research.google.com/github/k-chanez/Churn-prediction/blob/lysa_dev/projetCloud.ipynb\" target=\"_parent\"><img src=\"https://colab.research.google.com/assets/colab-badge.svg\" alt=\"Open In Colab\"/></a>"
      ]
    },
    {
      "cell_type": "code",
      "execution_count": 1,
      "metadata": {
        "colab": {
          "base_uri": "https://localhost:8080/"
        },
        "id": "5v-NVWLoSuJi",
        "outputId": "acc42edd-c68b-4ef4-848b-f0deb1a77437"
      },
      "outputs": [
        {
          "output_type": "stream",
          "name": "stdout",
          "text": [
            "Requirement already satisfied: google-cloud-bigquery in /usr/local/lib/python3.10/dist-packages (3.10.0)\n",
            "Requirement already satisfied: grpcio<2.0dev,>=1.47.0 in /usr/local/lib/python3.10/dist-packages (from google-cloud-bigquery) (1.57.0)\n",
            "Requirement already satisfied: google-api-core[grpc]!=2.0.*,!=2.1.*,!=2.2.*,!=2.3.0,<3.0.0dev,>=1.31.5 in /usr/local/lib/python3.10/dist-packages (from google-cloud-bigquery) (2.11.1)\n",
            "Requirement already satisfied: proto-plus<2.0.0dev,>=1.15.0 in /usr/local/lib/python3.10/dist-packages (from google-cloud-bigquery) (1.22.3)\n",
            "Requirement already satisfied: google-cloud-core<3.0.0dev,>=1.6.0 in /usr/local/lib/python3.10/dist-packages (from google-cloud-bigquery) (2.3.3)\n",
            "Requirement already satisfied: google-resumable-media<3.0dev,>=0.6.0 in /usr/local/lib/python3.10/dist-packages (from google-cloud-bigquery) (2.6.0)\n",
            "Requirement already satisfied: packaging>=20.0.0 in /usr/local/lib/python3.10/dist-packages (from google-cloud-bigquery) (23.1)\n",
            "Requirement already satisfied: protobuf!=3.20.0,!=3.20.1,!=4.21.0,!=4.21.1,!=4.21.2,!=4.21.3,!=4.21.4,!=4.21.5,<5.0.0dev,>=3.19.5 in /usr/local/lib/python3.10/dist-packages (from google-cloud-bigquery) (3.20.3)\n",
            "Requirement already satisfied: python-dateutil<3.0dev,>=2.7.2 in /usr/local/lib/python3.10/dist-packages (from google-cloud-bigquery) (2.8.2)\n",
            "Requirement already satisfied: requests<3.0.0dev,>=2.21.0 in /usr/local/lib/python3.10/dist-packages (from google-cloud-bigquery) (2.31.0)\n",
            "Requirement already satisfied: googleapis-common-protos<2.0.dev0,>=1.56.2 in /usr/local/lib/python3.10/dist-packages (from google-api-core[grpc]!=2.0.*,!=2.1.*,!=2.2.*,!=2.3.0,<3.0.0dev,>=1.31.5->google-cloud-bigquery) (1.60.0)\n",
            "Requirement already satisfied: google-auth<3.0.dev0,>=2.14.1 in /usr/local/lib/python3.10/dist-packages (from google-api-core[grpc]!=2.0.*,!=2.1.*,!=2.2.*,!=2.3.0,<3.0.0dev,>=1.31.5->google-cloud-bigquery) (2.17.3)\n",
            "Requirement already satisfied: grpcio-status<2.0.dev0,>=1.33.2 in /usr/local/lib/python3.10/dist-packages (from google-api-core[grpc]!=2.0.*,!=2.1.*,!=2.2.*,!=2.3.0,<3.0.0dev,>=1.31.5->google-cloud-bigquery) (1.48.2)\n",
            "Requirement already satisfied: google-crc32c<2.0dev,>=1.0 in /usr/local/lib/python3.10/dist-packages (from google-resumable-media<3.0dev,>=0.6.0->google-cloud-bigquery) (1.5.0)\n",
            "Requirement already satisfied: six>=1.5 in /usr/local/lib/python3.10/dist-packages (from python-dateutil<3.0dev,>=2.7.2->google-cloud-bigquery) (1.16.0)\n",
            "Requirement already satisfied: charset-normalizer<4,>=2 in /usr/local/lib/python3.10/dist-packages (from requests<3.0.0dev,>=2.21.0->google-cloud-bigquery) (3.2.0)\n",
            "Requirement already satisfied: idna<4,>=2.5 in /usr/local/lib/python3.10/dist-packages (from requests<3.0.0dev,>=2.21.0->google-cloud-bigquery) (3.4)\n",
            "Requirement already satisfied: urllib3<3,>=1.21.1 in /usr/local/lib/python3.10/dist-packages (from requests<3.0.0dev,>=2.21.0->google-cloud-bigquery) (2.0.4)\n",
            "Requirement already satisfied: certifi>=2017.4.17 in /usr/local/lib/python3.10/dist-packages (from requests<3.0.0dev,>=2.21.0->google-cloud-bigquery) (2023.7.22)\n",
            "Requirement already satisfied: cachetools<6.0,>=2.0.0 in /usr/local/lib/python3.10/dist-packages (from google-auth<3.0.dev0,>=2.14.1->google-api-core[grpc]!=2.0.*,!=2.1.*,!=2.2.*,!=2.3.0,<3.0.0dev,>=1.31.5->google-cloud-bigquery) (5.3.1)\n",
            "Requirement already satisfied: pyasn1-modules>=0.2.1 in /usr/local/lib/python3.10/dist-packages (from google-auth<3.0.dev0,>=2.14.1->google-api-core[grpc]!=2.0.*,!=2.1.*,!=2.2.*,!=2.3.0,<3.0.0dev,>=1.31.5->google-cloud-bigquery) (0.3.0)\n",
            "Requirement already satisfied: rsa<5,>=3.1.4 in /usr/local/lib/python3.10/dist-packages (from google-auth<3.0.dev0,>=2.14.1->google-api-core[grpc]!=2.0.*,!=2.1.*,!=2.2.*,!=2.3.0,<3.0.0dev,>=1.31.5->google-cloud-bigquery) (4.9)\n",
            "Requirement already satisfied: pyasn1<0.6.0,>=0.4.6 in /usr/local/lib/python3.10/dist-packages (from pyasn1-modules>=0.2.1->google-auth<3.0.dev0,>=2.14.1->google-api-core[grpc]!=2.0.*,!=2.1.*,!=2.2.*,!=2.3.0,<3.0.0dev,>=1.31.5->google-cloud-bigquery) (0.5.0)\n"
          ]
        }
      ],
      "source": [
        "!pip install google-cloud-bigquery"
      ]
    },
    {
      "cell_type": "code",
      "source": [
        "import pandas as pd\n",
        "from google.cloud import bigquery"
      ],
      "metadata": {
        "id": "HWp6ms0ys3aC"
      },
      "execution_count": 14,
      "outputs": []
    },
    {
      "cell_type": "code",
      "source": [
        "\n",
        "# Set the path to your service account key file on the GCE VM\n",
        "key_path = \"/projet-m2-ia-churn-prediction-db53d6498522.json\"\n",
        "\n",
        "# Set the environment variable for authentication\n",
        "import os\n",
        "os.environ['GOOGLE_APPLICATION_CREDENTIALS'] = key_path\n",
        "from google.cloud import bigquery\n",
        "\n",
        "# Remplacez 'project_id' par l'ID de votre projet GCP\n",
        "project_id = 'projet-m2-ia-churn-prediction'\n",
        "\n",
        "# Exécutez une requête BigQuery\n",
        "query = \"\"\"\n",
        "SELECT *\n",
        "FROM `projet-m2-ia-churn-prediction.Ecommerce_Churn.Ecommerce_Table1`\"\"\"\n",
        "df = bigquery.Client(project=project_id).query(query).to_dataframe()\n",
        "\n",
        "# Affichez le résultat\n",
        "print(df)"
      ],
      "metadata": {
        "colab": {
          "base_uri": "https://localhost:8080/"
        },
        "id": "QlUNPFz9Ugtw",
        "outputId": "1731787b-2358-48b1-873f-e0d9c4169e0f"
      },
      "execution_count": 15,
      "outputs": [
        {
          "output_type": "stream",
          "name": "stdout",
          "text": [
            "      CustomerID  Churn  Tenure PreferredLoginDevice  CityTier  \\\n",
            "0          52720      0    60.0         Mobile Phone         3   \n",
            "1          50929      0    50.0         Mobile Phone         1   \n",
            "2          53744      0    51.0         Mobile Phone         1   \n",
            "3          55535      0    61.0         Mobile Phone         3   \n",
            "4          51851      0     0.0         Mobile Phone         1   \n",
            "...          ...    ...     ...                  ...       ...   \n",
            "5054       53361      0     1.0         Mobile Phone         1   \n",
            "5055       54286      0     1.0         Mobile Phone         1   \n",
            "5056       54165      0     1.0         Mobile Phone         1   \n",
            "5057       53354      1     1.0         Mobile Phone         1   \n",
            "5058       54824      1     1.0         Mobile Phone         1   \n",
            "\n",
            "      WarehouseToHome PreferredPaymentMode  Gender  HourSpendOnApp  \\\n",
            "0                27.0           Debit Card  Female             3.0   \n",
            "1                 6.0           Debit Card    Male             3.0   \n",
            "2                 7.0           Debit Card    Male             4.0   \n",
            "3                28.0           Debit Card  Female             4.0   \n",
            "4                12.0           Debit Card  Female             3.0   \n",
            "...               ...                  ...     ...             ...   \n",
            "5054             11.0           Debit Card  Female             4.0   \n",
            "5055             13.0                  UPI  Female             3.0   \n",
            "5056              9.0          Credit Card    Male             3.0   \n",
            "5057             25.0                  UPI  Female             4.0   \n",
            "5058             25.0                  UPI  Female             4.0   \n",
            "\n",
            "      NumberOfDeviceRegistered    PreferedOrderCat  SatisfactionScore  \\\n",
            "0                            3             Grocery                  1   \n",
            "1                            1  Laptop & Accessory                  3   \n",
            "2                            2  Laptop & Accessory                  3   \n",
            "3                            4             Grocery                  1   \n",
            "4                            3        Mobile Phone                  1   \n",
            "...                        ...                 ...                ...   \n",
            "5054                         4        Mobile Phone                  3   \n",
            "5055                         5        Mobile Phone                  4   \n",
            "5056                         4        Mobile Phone                  4   \n",
            "5057                         4        Mobile Phone                  2   \n",
            "5058                         4        Mobile Phone                  1   \n",
            "\n",
            "     MaritalStatus  NumberOfAddress  Complain  OrderAmountHikeFromlastYear  \\\n",
            "0          Married                5         1                         13.0   \n",
            "1         Divorced                1         0                         24.0   \n",
            "2         Divorced                2         0                         25.0   \n",
            "3          Married                6         1                          NaN   \n",
            "4          Married                2         1                         13.0   \n",
            "...            ...              ...       ...                          ...   \n",
            "5054        Single                3         0                         20.0   \n",
            "5055       Married                3         0                         20.0   \n",
            "5056       Married               11         0                         13.0   \n",
            "5057        Single                3         0                         20.0   \n",
            "5058        Single                3         0                         20.0   \n",
            "\n",
            "      CouponUsed  OrderCount  DaySinceLastOrder  CashbackAmount  \n",
            "0            NaN         1.0                0.0          278.75  \n",
            "1            1.0         2.0                8.0          149.00  \n",
            "2            2.0         3.0                9.0          174.00  \n",
            "3            1.0         2.0                1.0          303.75  \n",
            "4            0.0         1.0                2.0           56.00  \n",
            "...          ...         ...                ...             ...  \n",
            "5054         2.0         2.0                1.0          148.18  \n",
            "5055         3.0         5.0                4.0          148.68  \n",
            "5056         2.0         3.0                3.0          159.68  \n",
            "5057         2.0         2.0                1.0          151.93  \n",
            "5058         2.0         2.0                1.0          151.93  \n",
            "\n",
            "[5059 rows x 20 columns]\n"
          ]
        }
      ]
    },
    {
      "cell_type": "markdown",
      "source": [
        "Pré-traitement de la donnée\n",
        "\n",
        "\n"
      ],
      "metadata": {
        "id": "YoBL8uT3zVA8"
      }
    },
    {
      "cell_type": "code",
      "source": [
        "# Id de la dataset\n",
        "dataset_id = \"ecommerce_data_churn\"\n",
        "\n",
        "# Remplacer les valeurs manquantes par la moyenne de la colonne pour les colonnes numériques\n",
        "\n",
        "for column in df.select_dtypes(include=['int64', 'float64']):\n",
        "    if pd.api.types.is_numeric_dtype(column):\n",
        "        df.fillna(df[column].mean(), inplace=True)\n",
        "\n",
        "# Remplacer les valeurs manquantes pour les colonnes categorielles avec le mod\n",
        "for column in df.select_dtypes(exclude=['int64', 'float64']):\n",
        "    df.fillna(df[column].mode()[0], inplace=True)\n",
        "\n",
        "# Convertir les colonnes numériques avec des valeurs non numériques en valeurs numériques\n",
        "numeric_columns = ['WarehouseToHome', 'HourSpendOnApp', 'OrderAmountHikeFromlastYear', 'CouponUsed', 'OrderCount']\n",
        "for column in numeric_columns:\n",
        "    df[column] = pd.to_numeric(df[column], errors='coerce')\n",
        "\n",
        "# Traiter les valeurs manquantes pour les colonnes numériques\n",
        "for column in numeric_columns:\n",
        "    df[column].fillna(df[column].mean(), inplace=True)\n",
        "\n",
        "# Traiter les valeurs incorrectes pour les colonnes catégorielles\n",
        "categorical_columns = ['PreferredLoginDevice', 'PreferredPaymentMode', 'Gender', 'PreferedOrderCat', 'MaritalStatus']\n",
        "for column in categorical_columns:\n",
        "    df[column] = df[column].replace('Mobile Phone', df[column].mode()[0])\n",
        "\n",
        "print(df)"
      ],
      "metadata": {
        "colab": {
          "base_uri": "https://localhost:8080/"
        },
        "id": "japoXNKCVXYd",
        "outputId": "40bbfbe5-b177-4677-d43d-8844da5c8de1"
      },
      "execution_count": 27,
      "outputs": [
        {
          "output_type": "stream",
          "name": "stdout",
          "text": [
            "      CustomerID  Churn  Tenure PreferredLoginDevice  CityTier  \\\n",
            "0          52720      0    60.0         Mobile Phone         3   \n",
            "1          50929      0    50.0         Mobile Phone         1   \n",
            "2          53744      0    51.0         Mobile Phone         1   \n",
            "3          55535      0    61.0         Mobile Phone         3   \n",
            "4          51851      0     0.0         Mobile Phone         1   \n",
            "...          ...    ...     ...                  ...       ...   \n",
            "5054       53361      0     1.0         Mobile Phone         1   \n",
            "5055       54286      0     1.0         Mobile Phone         1   \n",
            "5056       54165      0     1.0         Mobile Phone         1   \n",
            "5057       53354      1     1.0         Mobile Phone         1   \n",
            "5058       54824      1     1.0         Mobile Phone         1   \n",
            "\n",
            "      WarehouseToHome PreferredPaymentMode  Gender  HourSpendOnApp  \\\n",
            "0                27.0           Debit Card  Female             3.0   \n",
            "1                 6.0           Debit Card    Male             3.0   \n",
            "2                 7.0           Debit Card    Male             4.0   \n",
            "3                28.0           Debit Card  Female             4.0   \n",
            "4                12.0           Debit Card  Female             3.0   \n",
            "...               ...                  ...     ...             ...   \n",
            "5054             11.0           Debit Card  Female             4.0   \n",
            "5055             13.0                  UPI  Female             3.0   \n",
            "5056              9.0          Credit Card    Male             3.0   \n",
            "5057             25.0                  UPI  Female             4.0   \n",
            "5058             25.0                  UPI  Female             4.0   \n",
            "\n",
            "      NumberOfDeviceRegistered    PreferedOrderCat  SatisfactionScore  \\\n",
            "0                            3             Grocery                  1   \n",
            "1                            1  Laptop & Accessory                  3   \n",
            "2                            2  Laptop & Accessory                  3   \n",
            "3                            4             Grocery                  1   \n",
            "4                            3  Laptop & Accessory                  1   \n",
            "...                        ...                 ...                ...   \n",
            "5054                         4  Laptop & Accessory                  3   \n",
            "5055                         5  Laptop & Accessory                  4   \n",
            "5056                         4  Laptop & Accessory                  4   \n",
            "5057                         4  Laptop & Accessory                  2   \n",
            "5058                         4  Laptop & Accessory                  1   \n",
            "\n",
            "     MaritalStatus  NumberOfAddress  Complain  OrderAmountHikeFromlastYear  \\\n",
            "0          Married                5         1                    13.000000   \n",
            "1         Divorced                1         0                    24.000000   \n",
            "2         Divorced                2         0                    25.000000   \n",
            "3          Married                6         1                    15.708803   \n",
            "4          Married                2         1                    13.000000   \n",
            "...            ...              ...       ...                          ...   \n",
            "5054        Single                3         0                    20.000000   \n",
            "5055       Married                3         0                    20.000000   \n",
            "5056       Married               11         0                    13.000000   \n",
            "5057        Single                3         0                    20.000000   \n",
            "5058        Single                3         0                    20.000000   \n",
            "\n",
            "      CouponUsed  OrderCount  DaySinceLastOrder  CashbackAmount  \n",
            "0       1.750989         1.0                0.0          278.75  \n",
            "1       1.000000         2.0                8.0          149.00  \n",
            "2       2.000000         3.0                9.0          174.00  \n",
            "3       1.000000         2.0                1.0          303.75  \n",
            "4       0.000000         1.0                2.0           56.00  \n",
            "...          ...         ...                ...             ...  \n",
            "5054    2.000000         2.0                1.0          148.18  \n",
            "5055    3.000000         5.0                4.0          148.68  \n",
            "5056    2.000000         3.0                3.0          159.68  \n",
            "5057    2.000000         2.0                1.0          151.93  \n",
            "5058    2.000000         2.0                1.0          151.93  \n",
            "\n",
            "[5059 rows x 20 columns]\n"
          ]
        }
      ]
    },
    {
      "cell_type": "code",
      "source": [
        "print(df.describe())\n"
      ],
      "metadata": {
        "colab": {
          "base_uri": "https://localhost:8080/"
        },
        "id": "Mc28U6b8w1eA",
        "outputId": "e9a326be-71f2-46c6-d475-99d3a21971a0"
      },
      "execution_count": 28,
      "outputs": [
        {
          "output_type": "stream",
          "name": "stdout",
          "text": [
            "         CustomerID     Churn       Tenure  CityTier  WarehouseToHome  \\\n",
            "count        5059.0    5059.0  5059.000000    5059.0      5059.000000   \n",
            "mean   52847.095671  0.160704    10.098438  1.651117        15.669925   \n",
            "std     1621.175136  0.367294     8.570746  0.914842         8.376981   \n",
            "min         50001.0       0.0     0.000000       1.0         5.000000   \n",
            "25%         51441.5       0.0     2.000000       1.0         9.000000   \n",
            "50%         52876.0       0.0     9.000000       1.0        14.000000   \n",
            "75%         54253.5       0.0    16.000000       3.0        20.000000   \n",
            "max         55630.0       1.0    61.000000       3.0       127.000000   \n",
            "\n",
            "       HourSpendOnApp  NumberOfDeviceRegistered  SatisfactionScore  \\\n",
            "count     5059.000000                    5059.0             5059.0   \n",
            "mean         2.942132                  3.684523           3.061277   \n",
            "std          0.705835                  1.031387           1.384473   \n",
            "min          0.000000                       1.0                1.0   \n",
            "25%          2.000000                       3.0                2.0   \n",
            "50%          3.000000                       4.0                3.0   \n",
            "75%          3.000000                       4.0                4.0   \n",
            "max          5.000000                       6.0                5.0   \n",
            "\n",
            "       NumberOfAddress  Complain  OrderAmountHikeFromlastYear   CouponUsed  \\\n",
            "count           5059.0    5059.0                  5059.000000  5059.000000   \n",
            "mean          4.241945  0.286618                    15.708803     1.750989   \n",
            "std           2.587567  0.452226                     3.570714     1.805388   \n",
            "min                1.0       0.0                    11.000000     0.000000   \n",
            "25%                2.0       0.0                    13.000000     1.000000   \n",
            "50%                3.0       0.0                    15.000000     1.000000   \n",
            "75%                6.0       1.0                    18.000000     2.000000   \n",
            "max               22.0       1.0                    26.000000    16.000000   \n",
            "\n",
            "        OrderCount  DaySinceLastOrder  CashbackAmount  \n",
            "count  5059.000000        5059.000000     5059.000000  \n",
            "mean      2.989586           4.674639      177.542487  \n",
            "std       2.799744           3.662903       49.075200  \n",
            "min       1.000000           0.000000        0.000000  \n",
            "25%       1.000000           2.000000      146.870000  \n",
            "50%       2.000000           3.000000      162.740000  \n",
            "75%       3.000000           8.000000      190.380000  \n",
            "max      16.000000          46.000000      324.990000  \n"
          ]
        }
      ]
    },
    {
      "cell_type": "code",
      "source": [
        "print(df.isnull().sum())\n"
      ],
      "metadata": {
        "colab": {
          "base_uri": "https://localhost:8080/"
        },
        "id": "Jssnc0IQw32S",
        "outputId": "a2fcf0cf-f75a-4ba3-f63a-34f156e08687"
      },
      "execution_count": 29,
      "outputs": [
        {
          "output_type": "stream",
          "name": "stdout",
          "text": [
            "CustomerID                     0\n",
            "Churn                          0\n",
            "Tenure                         0\n",
            "PreferredLoginDevice           0\n",
            "CityTier                       0\n",
            "WarehouseToHome                0\n",
            "PreferredPaymentMode           0\n",
            "Gender                         0\n",
            "HourSpendOnApp                 0\n",
            "NumberOfDeviceRegistered       0\n",
            "PreferedOrderCat               0\n",
            "SatisfactionScore              0\n",
            "MaritalStatus                  0\n",
            "NumberOfAddress                0\n",
            "Complain                       0\n",
            "OrderAmountHikeFromlastYear    0\n",
            "CouponUsed                     0\n",
            "OrderCount                     0\n",
            "DaySinceLastOrder              0\n",
            "CashbackAmount                 0\n",
            "dtype: int64\n"
          ]
        }
      ]
    },
    {
      "cell_type": "code",
      "source": [
        "for column in df.select_dtypes(exclude=['int64', 'float64']):\n",
        "    print(f\"Valeurs uniques pour {column}: {df[column].unique()}\")\n"
      ],
      "metadata": {
        "colab": {
          "base_uri": "https://localhost:8080/"
        },
        "id": "X9jiNvpWxD6s",
        "outputId": "ef94eccf-9eb2-4322-d062-c79b1924e0f5"
      },
      "execution_count": 30,
      "outputs": [
        {
          "output_type": "stream",
          "name": "stdout",
          "text": [
            "Valeurs uniques pour PreferredLoginDevice: ['Mobile Phone' 'Computer']\n",
            "Valeurs uniques pour PreferredPaymentMode: ['Debit Card' 'Credit Card' 'Cash on Delivery' 'UPI' 'E wallet']\n",
            "Valeurs uniques pour Gender: ['Female' 'Male']\n",
            "Valeurs uniques pour PreferedOrderCat: ['Grocery' 'Laptop & Accessory' 'Mobile' 'Fashion' 'Others']\n",
            "Valeurs uniques pour MaritalStatus: ['Married' 'Divorced' 'Single']\n"
          ]
        }
      ]
    },
    {
      "cell_type": "code",
      "source": [
        "print(df.head())\n"
      ],
      "metadata": {
        "colab": {
          "base_uri": "https://localhost:8080/"
        },
        "id": "tOVTXhZEzOsI",
        "outputId": "67dff535-d0ac-40f5-e13b-ee45779b1976"
      },
      "execution_count": 31,
      "outputs": [
        {
          "output_type": "stream",
          "name": "stdout",
          "text": [
            "   CustomerID  Churn  Tenure PreferredLoginDevice  CityTier  WarehouseToHome  \\\n",
            "0       52720      0    60.0         Mobile Phone         3             27.0   \n",
            "1       50929      0    50.0         Mobile Phone         1              6.0   \n",
            "2       53744      0    51.0         Mobile Phone         1              7.0   \n",
            "3       55535      0    61.0         Mobile Phone         3             28.0   \n",
            "4       51851      0     0.0         Mobile Phone         1             12.0   \n",
            "\n",
            "  PreferredPaymentMode  Gender  HourSpendOnApp  NumberOfDeviceRegistered  \\\n",
            "0           Debit Card  Female             3.0                         3   \n",
            "1           Debit Card    Male             3.0                         1   \n",
            "2           Debit Card    Male             4.0                         2   \n",
            "3           Debit Card  Female             4.0                         4   \n",
            "4           Debit Card  Female             3.0                         3   \n",
            "\n",
            "     PreferedOrderCat  SatisfactionScore MaritalStatus  NumberOfAddress  \\\n",
            "0             Grocery                  1       Married                5   \n",
            "1  Laptop & Accessory                  3      Divorced                1   \n",
            "2  Laptop & Accessory                  3      Divorced                2   \n",
            "3             Grocery                  1       Married                6   \n",
            "4  Laptop & Accessory                  1       Married                2   \n",
            "\n",
            "   Complain  OrderAmountHikeFromlastYear  CouponUsed  OrderCount  \\\n",
            "0         1                    13.000000    1.750989         1.0   \n",
            "1         0                    24.000000    1.000000         2.0   \n",
            "2         0                    25.000000    2.000000         3.0   \n",
            "3         1                    15.708803    1.000000         2.0   \n",
            "4         1                    13.000000    0.000000         1.0   \n",
            "\n",
            "   DaySinceLastOrder  CashbackAmount  \n",
            "0                0.0          278.75  \n",
            "1                8.0          149.00  \n",
            "2                9.0          174.00  \n",
            "3                1.0          303.75  \n",
            "4                2.0           56.00  \n"
          ]
        }
      ]
    },
    {
      "cell_type": "code",
      "source": [
        "\n",
        "# Spécifiez l'ID du projet Google Cloud et l'ID du dataset et de la table\n",
        "project_id = 'votre-projet-id'\n",
        "dataset_id = 'votre-dataset-id'\n",
        "table_id = 'votre-table-id'\n",
        "\n",
        "# Créez un client BigQuery\n",
        "client = bigquery.Client(project=project_id)\n",
        "\n",
        "# Liste des colonnes catégorielles (remplacez par vos colonnes)\n",
        "categorical_columns = ['PreferredLoginDevice', 'PreferredPaymentMode', 'Gender', 'PreferedOrderCat', 'MaritalStatus']\n",
        "\n",
        "# Générez la requête SQL pour obtenir les statistiques descriptives pour les colonnes catégorielles\n",
        "query_categorical = \"\"\"\n",
        "SELECT\n",
        "  {columns},\n",
        "  COUNT(*) AS count,\n",
        "  COUNT(DISTINCT {first_column}) AS unique_count\n",
        "FROM\n",
        "  `{project_id}.{dataset_id}.{table_id}`\n",
        "GROUP BY\n",
        "  {columns}\n",
        "\"\"\".format(\n",
        "    columns=\", \".join(categorical_columns),\n",
        "    first_column=categorical_columns[0],\n",
        "    project_id=project_id,\n",
        "    dataset_id=dataset_id,\n",
        "    table_id=table_id\n",
        ")\n",
        "\n",
        "# Exécutez la requête\n",
        "query_job_categorical = client.query(query_categorical)\n",
        "result_categorical = query_job_categorical.to_dataframe()\n",
        "# Assurez-vous que les colonnes catégorielles correspondent exactement aux noms dans votre table\n",
        "for column in categorical_columns:\n",
        "    if column not in result_categorical.columns:\n",
        "        print(f\"La colonne '{column}' n'a pas été trouvée dans le résultat de la requête.\")\n",
        "\n",
        "\n",
        "# Affichez les statistiques descriptives\n",
        "print(result_categorical)\n"
      ],
      "metadata": {
        "colab": {
          "base_uri": "https://localhost:8080/",
          "height": 459
        },
        "id": "ZnUGmnZ-zRYY",
        "outputId": "f1d56c85-d99b-4e5d-8fda-e41695cbf011"
      },
      "execution_count": 42,
      "outputs": [
        {
          "output_type": "error",
          "ename": "BadRequest",
          "evalue": "ignored",
          "traceback": [
            "\u001b[0;31m---------------------------------------------------------------------------\u001b[0m",
            "\u001b[0;31mBadRequest\u001b[0m                                Traceback (most recent call last)",
            "\u001b[0;32m<ipython-input-42-5066a3d78a11>\u001b[0m in \u001b[0;36m<cell line: 31>\u001b[0;34m()\u001b[0m\n\u001b[1;32m     29\u001b[0m \u001b[0;34m\u001b[0m\u001b[0m\n\u001b[1;32m     30\u001b[0m \u001b[0;31m# Exécutez la requête\u001b[0m\u001b[0;34m\u001b[0m\u001b[0;34m\u001b[0m\u001b[0m\n\u001b[0;32m---> 31\u001b[0;31m \u001b[0mquery_job_categorical\u001b[0m \u001b[0;34m=\u001b[0m \u001b[0mclient\u001b[0m\u001b[0;34m.\u001b[0m\u001b[0mquery\u001b[0m\u001b[0;34m(\u001b[0m\u001b[0mquery_categorical\u001b[0m\u001b[0;34m)\u001b[0m\u001b[0;34m\u001b[0m\u001b[0;34m\u001b[0m\u001b[0m\n\u001b[0m\u001b[1;32m     32\u001b[0m \u001b[0mresult_categorical\u001b[0m \u001b[0;34m=\u001b[0m \u001b[0mquery_job_categorical\u001b[0m\u001b[0;34m.\u001b[0m\u001b[0mto_dataframe\u001b[0m\u001b[0;34m(\u001b[0m\u001b[0;34m)\u001b[0m\u001b[0;34m\u001b[0m\u001b[0;34m\u001b[0m\u001b[0m\n\u001b[1;32m     33\u001b[0m \u001b[0;31m# Assurez-vous que les colonnes catégorielles correspondent exactement aux noms dans votre table\u001b[0m\u001b[0;34m\u001b[0m\u001b[0;34m\u001b[0m\u001b[0m\n",
            "\u001b[0;32m/usr/local/lib/python3.10/dist-packages/google/cloud/bigquery/client.py\u001b[0m in \u001b[0;36mquery\u001b[0;34m(self, query, job_config, job_id, job_id_prefix, location, project, retry, timeout, job_retry, api_method)\u001b[0m\n\u001b[1;32m   3401\u001b[0m             )\n\u001b[1;32m   3402\u001b[0m         \u001b[0;32melif\u001b[0m \u001b[0mapi_method\u001b[0m \u001b[0;34m==\u001b[0m \u001b[0menums\u001b[0m\u001b[0;34m.\u001b[0m\u001b[0mQueryApiMethod\u001b[0m\u001b[0;34m.\u001b[0m\u001b[0mINSERT\u001b[0m\u001b[0;34m:\u001b[0m\u001b[0;34m\u001b[0m\u001b[0;34m\u001b[0m\u001b[0m\n\u001b[0;32m-> 3403\u001b[0;31m             return _job_helpers.query_jobs_insert(\n\u001b[0m\u001b[1;32m   3404\u001b[0m                 \u001b[0mself\u001b[0m\u001b[0;34m,\u001b[0m\u001b[0;34m\u001b[0m\u001b[0;34m\u001b[0m\u001b[0m\n\u001b[1;32m   3405\u001b[0m                 \u001b[0mquery\u001b[0m\u001b[0;34m,\u001b[0m\u001b[0;34m\u001b[0m\u001b[0;34m\u001b[0m\u001b[0m\n",
            "\u001b[0;32m/usr/local/lib/python3.10/dist-packages/google/cloud/bigquery/_job_helpers.py\u001b[0m in \u001b[0;36mquery_jobs_insert\u001b[0;34m(client, query, job_config, job_id, job_id_prefix, location, project, retry, timeout, job_retry)\u001b[0m\n\u001b[1;32m    112\u001b[0m             \u001b[0;32mreturn\u001b[0m \u001b[0mquery_job\u001b[0m\u001b[0;34m\u001b[0m\u001b[0;34m\u001b[0m\u001b[0m\n\u001b[1;32m    113\u001b[0m \u001b[0;34m\u001b[0m\u001b[0m\n\u001b[0;32m--> 114\u001b[0;31m     \u001b[0mfuture\u001b[0m \u001b[0;34m=\u001b[0m \u001b[0mdo_query\u001b[0m\u001b[0;34m(\u001b[0m\u001b[0;34m)\u001b[0m\u001b[0;34m\u001b[0m\u001b[0;34m\u001b[0m\u001b[0m\n\u001b[0m\u001b[1;32m    115\u001b[0m     \u001b[0;31m# The future might be in a failed state now, but if it's\u001b[0m\u001b[0;34m\u001b[0m\u001b[0;34m\u001b[0m\u001b[0m\n\u001b[1;32m    116\u001b[0m     \u001b[0;31m# unrecoverable, we'll find out when we ask for it's result, at which\u001b[0m\u001b[0;34m\u001b[0m\u001b[0;34m\u001b[0m\u001b[0m\n",
            "\u001b[0;32m/usr/local/lib/python3.10/dist-packages/google/cloud/bigquery/_job_helpers.py\u001b[0m in \u001b[0;36mdo_query\u001b[0;34m()\u001b[0m\n\u001b[1;32m     89\u001b[0m \u001b[0;34m\u001b[0m\u001b[0m\n\u001b[1;32m     90\u001b[0m         \u001b[0;32mtry\u001b[0m\u001b[0;34m:\u001b[0m\u001b[0;34m\u001b[0m\u001b[0;34m\u001b[0m\u001b[0m\n\u001b[0;32m---> 91\u001b[0;31m             \u001b[0mquery_job\u001b[0m\u001b[0;34m.\u001b[0m\u001b[0m_begin\u001b[0m\u001b[0;34m(\u001b[0m\u001b[0mretry\u001b[0m\u001b[0;34m=\u001b[0m\u001b[0mretry\u001b[0m\u001b[0;34m,\u001b[0m \u001b[0mtimeout\u001b[0m\u001b[0;34m=\u001b[0m\u001b[0mtimeout\u001b[0m\u001b[0;34m)\u001b[0m\u001b[0;34m\u001b[0m\u001b[0;34m\u001b[0m\u001b[0m\n\u001b[0m\u001b[1;32m     92\u001b[0m         \u001b[0;32mexcept\u001b[0m \u001b[0mcore_exceptions\u001b[0m\u001b[0;34m.\u001b[0m\u001b[0mConflict\u001b[0m \u001b[0;32mas\u001b[0m \u001b[0mcreate_exc\u001b[0m\u001b[0;34m:\u001b[0m\u001b[0;34m\u001b[0m\u001b[0;34m\u001b[0m\u001b[0m\n\u001b[1;32m     93\u001b[0m             \u001b[0;31m# The thought is if someone is providing their own job IDs and they get\u001b[0m\u001b[0;34m\u001b[0m\u001b[0;34m\u001b[0m\u001b[0m\n",
            "\u001b[0;32m/usr/local/lib/python3.10/dist-packages/google/cloud/bigquery/job/query.py\u001b[0m in \u001b[0;36m_begin\u001b[0;34m(self, client, retry, timeout)\u001b[0m\n\u001b[1;32m   1308\u001b[0m \u001b[0;34m\u001b[0m\u001b[0m\n\u001b[1;32m   1309\u001b[0m         \u001b[0;32mtry\u001b[0m\u001b[0;34m:\u001b[0m\u001b[0;34m\u001b[0m\u001b[0;34m\u001b[0m\u001b[0m\n\u001b[0;32m-> 1310\u001b[0;31m             \u001b[0msuper\u001b[0m\u001b[0;34m(\u001b[0m\u001b[0mQueryJob\u001b[0m\u001b[0;34m,\u001b[0m \u001b[0mself\u001b[0m\u001b[0;34m)\u001b[0m\u001b[0;34m.\u001b[0m\u001b[0m_begin\u001b[0m\u001b[0;34m(\u001b[0m\u001b[0mclient\u001b[0m\u001b[0;34m=\u001b[0m\u001b[0mclient\u001b[0m\u001b[0;34m,\u001b[0m \u001b[0mretry\u001b[0m\u001b[0;34m=\u001b[0m\u001b[0mretry\u001b[0m\u001b[0;34m,\u001b[0m \u001b[0mtimeout\u001b[0m\u001b[0;34m=\u001b[0m\u001b[0mtimeout\u001b[0m\u001b[0;34m)\u001b[0m\u001b[0;34m\u001b[0m\u001b[0;34m\u001b[0m\u001b[0m\n\u001b[0m\u001b[1;32m   1311\u001b[0m         \u001b[0;32mexcept\u001b[0m \u001b[0mexceptions\u001b[0m\u001b[0;34m.\u001b[0m\u001b[0mGoogleAPICallError\u001b[0m \u001b[0;32mas\u001b[0m \u001b[0mexc\u001b[0m\u001b[0;34m:\u001b[0m\u001b[0;34m\u001b[0m\u001b[0;34m\u001b[0m\u001b[0m\n\u001b[1;32m   1312\u001b[0m             exc.message = _EXCEPTION_FOOTER_TEMPLATE.format(\n",
            "\u001b[0;32m/usr/local/lib/python3.10/dist-packages/google/cloud/bigquery/job/base.py\u001b[0m in \u001b[0;36m_begin\u001b[0;34m(self, client, retry, timeout)\u001b[0m\n\u001b[1;32m    691\u001b[0m         \u001b[0;31m# job has an ID.\u001b[0m\u001b[0;34m\u001b[0m\u001b[0;34m\u001b[0m\u001b[0m\n\u001b[1;32m    692\u001b[0m         \u001b[0mspan_attributes\u001b[0m \u001b[0;34m=\u001b[0m \u001b[0;34m{\u001b[0m\u001b[0;34m\"path\"\u001b[0m\u001b[0;34m:\u001b[0m \u001b[0mpath\u001b[0m\u001b[0;34m}\u001b[0m\u001b[0;34m\u001b[0m\u001b[0;34m\u001b[0m\u001b[0m\n\u001b[0;32m--> 693\u001b[0;31m         api_response = client._call_api(\n\u001b[0m\u001b[1;32m    694\u001b[0m             \u001b[0mretry\u001b[0m\u001b[0;34m,\u001b[0m\u001b[0;34m\u001b[0m\u001b[0;34m\u001b[0m\u001b[0m\n\u001b[1;32m    695\u001b[0m             \u001b[0mspan_name\u001b[0m\u001b[0;34m=\u001b[0m\u001b[0;34m\"BigQuery.job.begin\"\u001b[0m\u001b[0;34m,\u001b[0m\u001b[0;34m\u001b[0m\u001b[0;34m\u001b[0m\u001b[0m\n",
            "\u001b[0;32m/usr/local/lib/python3.10/dist-packages/google/cloud/bigquery/client.py\u001b[0m in \u001b[0;36m_call_api\u001b[0;34m(self, retry, span_name, span_attributes, job_ref, headers, **kwargs)\u001b[0m\n\u001b[1;32m    811\u001b[0m                 \u001b[0mname\u001b[0m\u001b[0;34m=\u001b[0m\u001b[0mspan_name\u001b[0m\u001b[0;34m,\u001b[0m \u001b[0mattributes\u001b[0m\u001b[0;34m=\u001b[0m\u001b[0mspan_attributes\u001b[0m\u001b[0;34m,\u001b[0m \u001b[0mclient\u001b[0m\u001b[0;34m=\u001b[0m\u001b[0mself\u001b[0m\u001b[0;34m,\u001b[0m \u001b[0mjob_ref\u001b[0m\u001b[0;34m=\u001b[0m\u001b[0mjob_ref\u001b[0m\u001b[0;34m\u001b[0m\u001b[0;34m\u001b[0m\u001b[0m\n\u001b[1;32m    812\u001b[0m             ):\n\u001b[0;32m--> 813\u001b[0;31m                 \u001b[0;32mreturn\u001b[0m \u001b[0mcall\u001b[0m\u001b[0;34m(\u001b[0m\u001b[0;34m)\u001b[0m\u001b[0;34m\u001b[0m\u001b[0;34m\u001b[0m\u001b[0m\n\u001b[0m\u001b[1;32m    814\u001b[0m \u001b[0;34m\u001b[0m\u001b[0m\n\u001b[1;32m    815\u001b[0m         \u001b[0;32mreturn\u001b[0m \u001b[0mcall\u001b[0m\u001b[0;34m(\u001b[0m\u001b[0;34m)\u001b[0m\u001b[0;34m\u001b[0m\u001b[0;34m\u001b[0m\u001b[0m\n",
            "\u001b[0;32m/usr/local/lib/python3.10/dist-packages/google/api_core/retry.py\u001b[0m in \u001b[0;36mretry_wrapped_func\u001b[0;34m(*args, **kwargs)\u001b[0m\n\u001b[1;32m    347\u001b[0m                 \u001b[0mself\u001b[0m\u001b[0;34m.\u001b[0m\u001b[0m_initial\u001b[0m\u001b[0;34m,\u001b[0m \u001b[0mself\u001b[0m\u001b[0;34m.\u001b[0m\u001b[0m_maximum\u001b[0m\u001b[0;34m,\u001b[0m \u001b[0mmultiplier\u001b[0m\u001b[0;34m=\u001b[0m\u001b[0mself\u001b[0m\u001b[0;34m.\u001b[0m\u001b[0m_multiplier\u001b[0m\u001b[0;34m\u001b[0m\u001b[0;34m\u001b[0m\u001b[0m\n\u001b[1;32m    348\u001b[0m             )\n\u001b[0;32m--> 349\u001b[0;31m             return retry_target(\n\u001b[0m\u001b[1;32m    350\u001b[0m                 \u001b[0mtarget\u001b[0m\u001b[0;34m,\u001b[0m\u001b[0;34m\u001b[0m\u001b[0;34m\u001b[0m\u001b[0m\n\u001b[1;32m    351\u001b[0m                 \u001b[0mself\u001b[0m\u001b[0;34m.\u001b[0m\u001b[0m_predicate\u001b[0m\u001b[0;34m,\u001b[0m\u001b[0;34m\u001b[0m\u001b[0;34m\u001b[0m\u001b[0m\n",
            "\u001b[0;32m/usr/local/lib/python3.10/dist-packages/google/api_core/retry.py\u001b[0m in \u001b[0;36mretry_target\u001b[0;34m(target, predicate, sleep_generator, timeout, on_error, **kwargs)\u001b[0m\n\u001b[1;32m    189\u001b[0m     \u001b[0;32mfor\u001b[0m \u001b[0msleep\u001b[0m \u001b[0;32min\u001b[0m \u001b[0msleep_generator\u001b[0m\u001b[0;34m:\u001b[0m\u001b[0;34m\u001b[0m\u001b[0;34m\u001b[0m\u001b[0m\n\u001b[1;32m    190\u001b[0m         \u001b[0;32mtry\u001b[0m\u001b[0;34m:\u001b[0m\u001b[0;34m\u001b[0m\u001b[0;34m\u001b[0m\u001b[0m\n\u001b[0;32m--> 191\u001b[0;31m             \u001b[0;32mreturn\u001b[0m \u001b[0mtarget\u001b[0m\u001b[0;34m(\u001b[0m\u001b[0;34m)\u001b[0m\u001b[0;34m\u001b[0m\u001b[0;34m\u001b[0m\u001b[0m\n\u001b[0m\u001b[1;32m    192\u001b[0m \u001b[0;34m\u001b[0m\u001b[0m\n\u001b[1;32m    193\u001b[0m         \u001b[0;31m# pylint: disable=broad-except\u001b[0m\u001b[0;34m\u001b[0m\u001b[0;34m\u001b[0m\u001b[0m\n",
            "\u001b[0;32m/usr/local/lib/python3.10/dist-packages/google/cloud/_http/__init__.py\u001b[0m in \u001b[0;36mapi_request\u001b[0;34m(self, method, path, query_params, data, content_type, headers, api_base_url, api_version, expect_json, _target_object, timeout, extra_api_info)\u001b[0m\n\u001b[1;32m    492\u001b[0m \u001b[0;34m\u001b[0m\u001b[0m\n\u001b[1;32m    493\u001b[0m         \u001b[0;32mif\u001b[0m \u001b[0;32mnot\u001b[0m \u001b[0;36m200\u001b[0m \u001b[0;34m<=\u001b[0m \u001b[0mresponse\u001b[0m\u001b[0;34m.\u001b[0m\u001b[0mstatus_code\u001b[0m \u001b[0;34m<\u001b[0m \u001b[0;36m300\u001b[0m\u001b[0;34m:\u001b[0m\u001b[0;34m\u001b[0m\u001b[0;34m\u001b[0m\u001b[0m\n\u001b[0;32m--> 494\u001b[0;31m             \u001b[0;32mraise\u001b[0m \u001b[0mexceptions\u001b[0m\u001b[0;34m.\u001b[0m\u001b[0mfrom_http_response\u001b[0m\u001b[0;34m(\u001b[0m\u001b[0mresponse\u001b[0m\u001b[0;34m)\u001b[0m\u001b[0;34m\u001b[0m\u001b[0;34m\u001b[0m\u001b[0m\n\u001b[0m\u001b[1;32m    495\u001b[0m \u001b[0;34m\u001b[0m\u001b[0m\n\u001b[1;32m    496\u001b[0m         \u001b[0;32mif\u001b[0m \u001b[0mexpect_json\u001b[0m \u001b[0;32mand\u001b[0m \u001b[0mresponse\u001b[0m\u001b[0;34m.\u001b[0m\u001b[0mcontent\u001b[0m\u001b[0;34m:\u001b[0m\u001b[0;34m\u001b[0m\u001b[0;34m\u001b[0m\u001b[0m\n",
            "\u001b[0;31mBadRequest\u001b[0m: 400 POST https://bigquery.googleapis.com/bigquery/v2/projects/votre-projet-id/jobs?prettyPrint=false: ProjectId and DatasetId must be non-empty\n\nLocation: None\nJob ID: 0cf18feb-423c-40c8-b575-83bd3a08ae89\n"
          ]
        }
      ]
    }
  ]
}